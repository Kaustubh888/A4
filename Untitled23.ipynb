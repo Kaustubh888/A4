{
 "cells": [
  {
   "cell_type": "code",
   "execution_count": null,
   "id": "4de8e253",
   "metadata": {},
   "outputs": [],
   "source": [
    "1.\n",
    "\n",
    "= Empty List\n",
    "  eg ->\n",
    "             []"
   ]
  },
  {
   "cell_type": "code",
   "execution_count": null,
   "id": "404a1cac",
   "metadata": {},
   "outputs": [],
   "source": [
    "2. In a list of values stored in a variable called spam, how would you assign the value &#39;hello&#39; as the\n",
    "third value? (Assume [2, 4, 6, 8, 10] are in spam.)\n",
    "\n",
    "= spam[2]=\"hello\""
   ]
  },
  {
   "cell_type": "code",
   "execution_count": null,
   "id": "6f896174",
   "metadata": {},
   "outputs": [],
   "source": [
    "3. \n",
    "\n",
    "= Value for spam[int(int('3' * 2) / 11)] is d"
   ]
  },
  {
   "cell_type": "code",
   "execution_count": null,
   "id": "50f5fa99",
   "metadata": {},
   "outputs": [],
   "source": [
    "4.\n",
    "\n",
    "= d"
   ]
  },
  {
   "cell_type": "code",
   "execution_count": null,
   "id": "6d5b092b",
   "metadata": {},
   "outputs": [],
   "source": [
    "5.\n",
    "\n",
    "= ['a','b']"
   ]
  },
  {
   "cell_type": "code",
   "execution_count": null,
   "id": "da4b3591",
   "metadata": {},
   "outputs": [],
   "source": [
    "6.\n",
    "\n",
    "=   1"
   ]
  },
  {
   "cell_type": "code",
   "execution_count": null,
   "id": "78e48a95",
   "metadata": {},
   "outputs": [],
   "source": [
    "7.\n",
    "\n",
    "=  [3.14, 'cat', 11, 'cat', True, 99] it append 99 from right most in list"
   ]
  },
  {
   "cell_type": "code",
   "execution_count": null,
   "id": "a07ac3e5",
   "metadata": {},
   "outputs": [],
   "source": [
    "8.\n",
    "\n",
    "= It removes cat from left most position of the list\n",
    "\n",
    "  [3.14, 11, 'cat', True, 99]"
   ]
  },
  {
   "cell_type": "code",
   "execution_count": null,
   "id": "f19435ea",
   "metadata": {},
   "outputs": [],
   "source": [
    "9. What are the list concatenation and list replication operators?\n",
    "\n",
    "= List concatenation just joins the lists given\n",
    "  eg ->\n",
    "    \n",
    "          spam+bacon   ->    ['a', 'b', 'c', 'd', 3.14, 11, 'cat', True, 99]\n",
    "  \n",
    "  List replication just repeats the value number of times being told\n",
    "  eg ->    \n",
    "           spam*3      ->    ['a', 'b', 'c', 'd', 'a', 'b', 'c', 'd', 'a', 'b', 'c', 'd']"
   ]
  },
  {
   "cell_type": "code",
   "execution_count": null,
   "id": "e93a976f",
   "metadata": {},
   "outputs": [],
   "source": [
    "10. What is difference between the list methods append() and insert()?\n",
    " =  Append methond put the value from right most index but insert method puts the value on to the index to want \n",
    "     \n",
    "    eg ->\n",
    "             bacon.insert(0,22)     ->    [22, 3.14, 11, 'cat', True, 99]"
   ]
  },
  {
   "cell_type": "code",
   "execution_count": null,
   "id": "42687a04",
   "metadata": {},
   "outputs": [],
   "source": [
    "11. What are the two methods for removing items from a list?\n",
    "\n",
    "= .pop() and .remove()"
   ]
  },
  {
   "cell_type": "code",
   "execution_count": null,
   "id": "f22dba6c",
   "metadata": {},
   "outputs": [],
   "source": [
    "12. Describe how list values and string values are identical?\n",
    "= list values and string values are not identical.\n",
    "  Elements of a list can be of different types whereas a String only contains characters that are all of String type"
   ]
  },
  {
   "cell_type": "code",
   "execution_count": null,
   "id": "b4c658da",
   "metadata": {},
   "outputs": [],
   "source": [
    "13. Whats the difference between tuples and lists?\n",
    "\n",
    "= Tuples are immutable and list are mutable"
   ]
  },
  {
   "cell_type": "code",
   "execution_count": null,
   "id": "386bda77",
   "metadata": {},
   "outputs": [],
   "source": [
    "14. How do you type a tuple value that only contains the integer 42?\n",
    "\n",
    "= p =(42)"
   ]
  },
  {
   "cell_type": "code",
   "execution_count": null,
   "id": "3897ea91",
   "metadata": {},
   "outputs": [],
   "source": [
    "15. How do you get a list values tuple form? How do you get a tuple values list form?\n",
    "= tuple values list form \n",
    "  eg ->\n",
    "         t2 = (\"kch\",'typ','kui',234,True)\n",
    "         K3 = list(t2)\n",
    "         print(type(K3))\n",
    "         print(K3)\n",
    "         \n",
    "   list values tuple form\n",
    "   eg -> \n",
    "         t2 = [\"kch\",'typ','kui',234,True]\n",
    "         K3 = tuple(t2)\n",
    "         print(type(K3))\n",
    "         print(K3)\n",
    "          "
   ]
  },
  {
   "cell_type": "code",
   "execution_count": null,
   "id": "afa2b54d",
   "metadata": {},
   "outputs": [],
   "source": [
    "16. \n",
    "= Variables will contain references to list values rather than list values themselves. But for strings and integer   values,variables simply contain the string or integer value. \n",
    "  Python uses references whenever variables must store values of mutable data types, such as lists or dictionaries."
   ]
  },
  {
   "cell_type": "code",
   "execution_count": null,
   "id": "0fb7e97e",
   "metadata": {},
   "outputs": [],
   "source": [
    "17.\n",
    "= copy.copy() it changes both the objects and copy.deepcopy() does not changes the real object"
   ]
  }
 ],
 "metadata": {
  "kernelspec": {
   "display_name": "Python 3",
   "language": "python",
   "name": "python3"
  },
  "language_info": {
   "codemirror_mode": {
    "name": "ipython",
    "version": 3
   },
   "file_extension": ".py",
   "mimetype": "text/x-python",
   "name": "python",
   "nbconvert_exporter": "python",
   "pygments_lexer": "ipython3",
   "version": "3.8.8"
  }
 },
 "nbformat": 4,
 "nbformat_minor": 5
}
